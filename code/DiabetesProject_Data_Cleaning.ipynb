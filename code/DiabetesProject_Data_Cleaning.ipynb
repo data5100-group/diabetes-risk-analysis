{
  "nbformat": 4,
  "nbformat_minor": 0,
  "metadata": {
    "colab": {
      "provenance": []
    },
    "kernelspec": {
      "name": "python3",
      "display_name": "Python 3"
    },
    "language_info": {
      "name": "python"
    }
  },
  "cells": [
    {
      "cell_type": "markdown",
      "source": [
        "# Load Data"
      ],
      "metadata": {
        "id": "ID5FM6I-wM9B"
      }
    },
    {
      "cell_type": "markdown",
      "source": [
        "## Import Libraries"
      ],
      "metadata": {
        "id": "cQNv45w5wP9o"
      }
    },
    {
      "cell_type": "code",
      "execution_count": null,
      "metadata": {
        "id": "ooo2Gb69uuzI"
      },
      "outputs": [],
      "source": [
        "# Import pandas, numpy, and matplotlib\n",
        "import pandas as pd\n",
        "import numpy as np\n",
        "import matplotlib.pyplot as plt\n",
        "\n",
        "# seaborn is a data visualization library built on matplotlib\n",
        "import seaborn as sns\n",
        "\n",
        "# set the plotting style\n",
        "sns.set_style(\"whitegrid\")"
      ]
    },
    {
      "cell_type": "markdown",
      "source": [
        "## Load Diabetes Datasets"
      ],
      "metadata": {
        "id": "nXs8uVHxwY4D"
      }
    },
    {
      "cell_type": "markdown",
      "source": [
        "### Diabetes 130-US Hospitals for Years 1999-2008"
      ],
      "metadata": {
        "id": "ZJ76crcRyj2X"
      }
    },
    {
      "cell_type": "code",
      "source": [
        "# Loading dataset\n",
        "diabetic_UCI = pd.read_csv(\"https://raw.githubusercontent.com/data5100-group/diabetes-risk-analysis/main/data/diabetic_data.csv\")\n",
        "\n",
        "# Loading mapping\n",
        "ids_mapping_UCI = pd.read_csv(\"https://raw.githubusercontent.com/data5100-group/diabetes-risk-analysis/main/data/IDS_mapping.csv\")"
      ],
      "metadata": {
        "id": "Rs095Xy-yl5x"
      },
      "execution_count": null,
      "outputs": []
    },
    {
      "cell_type": "markdown",
      "source": [
        "### Comprehensive Diabetes Clinical Dataset"
      ],
      "metadata": {
        "id": "EU3pbwM8yzO8"
      }
    },
    {
      "cell_type": "code",
      "source": [
        "# Loading dataset\n",
        "diabetes_kaggle = pd.read_csv(\"https://raw.githubusercontent.com/data5100-group/diabetes-risk-analysis/main/data/diabetes_dataset.csv\")"
      ],
      "metadata": {
        "id": "MuFiGg5jxv57"
      },
      "execution_count": null,
      "outputs": []
    },
    {
      "cell_type": "markdown",
      "source": [
        "## Understanding the Data"
      ],
      "metadata": {
        "id": "jo-L4iO70Nay"
      }
    },
    {
      "cell_type": "code",
      "source": [
        "diabetes_kaggle.info()"
      ],
      "metadata": {
        "colab": {
          "base_uri": "https://localhost:8080/"
        },
        "id": "iTKn5lQt0LPH",
        "outputId": "7969e55a-5fc5-4238-a0d6-0d643e3e4aee"
      },
      "execution_count": null,
      "outputs": [
        {
          "output_type": "stream",
          "name": "stdout",
          "text": [
            "<class 'pandas.core.frame.DataFrame'>\n",
            "RangeIndex: 100000 entries, 0 to 99999\n",
            "Data columns (total 16 columns):\n",
            " #   Column                Non-Null Count   Dtype  \n",
            "---  ------                --------------   -----  \n",
            " 0   year                  100000 non-null  int64  \n",
            " 1   gender                100000 non-null  object \n",
            " 2   age                   100000 non-null  float64\n",
            " 3   location              100000 non-null  object \n",
            " 4   race:AfricanAmerican  100000 non-null  int64  \n",
            " 5   race:Asian            100000 non-null  int64  \n",
            " 6   race:Caucasian        100000 non-null  int64  \n",
            " 7   race:Hispanic         100000 non-null  int64  \n",
            " 8   race:Other            100000 non-null  int64  \n",
            " 9   hypertension          100000 non-null  int64  \n",
            " 10  heart_disease         100000 non-null  int64  \n",
            " 11  smoking_history       100000 non-null  object \n",
            " 12  bmi                   100000 non-null  float64\n",
            " 13  hbA1c_level           100000 non-null  float64\n",
            " 14  blood_glucose_level   100000 non-null  int64  \n",
            " 15  diabetes              100000 non-null  int64  \n",
            "dtypes: float64(3), int64(10), object(3)\n",
            "memory usage: 12.2+ MB\n"
          ]
        }
      ]
    },
    {
      "cell_type": "code",
      "source": [
        "diabetic_UCI.info()"
      ],
      "metadata": {
        "colab": {
          "base_uri": "https://localhost:8080/"
        },
        "id": "ufZ4UgF70u9Q",
        "outputId": "91c35f15-8383-44ea-da04-0ff7081e4fc7"
      },
      "execution_count": null,
      "outputs": [
        {
          "output_type": "stream",
          "name": "stdout",
          "text": [
            "<class 'pandas.core.frame.DataFrame'>\n",
            "RangeIndex: 101766 entries, 0 to 101765\n",
            "Data columns (total 50 columns):\n",
            " #   Column                    Non-Null Count   Dtype \n",
            "---  ------                    --------------   ----- \n",
            " 0   encounter_id              101766 non-null  int64 \n",
            " 1   patient_nbr               101766 non-null  int64 \n",
            " 2   race                      101766 non-null  object\n",
            " 3   gender                    101766 non-null  object\n",
            " 4   age                       101766 non-null  object\n",
            " 5   weight                    101766 non-null  object\n",
            " 6   admission_type_id         101766 non-null  int64 \n",
            " 7   discharge_disposition_id  101766 non-null  int64 \n",
            " 8   admission_source_id       101766 non-null  int64 \n",
            " 9   time_in_hospital          101766 non-null  int64 \n",
            " 10  payer_code                101766 non-null  object\n",
            " 11  medical_specialty         101766 non-null  object\n",
            " 12  num_lab_procedures        101766 non-null  int64 \n",
            " 13  num_procedures            101766 non-null  int64 \n",
            " 14  num_medications           101766 non-null  int64 \n",
            " 15  number_outpatient         101766 non-null  int64 \n",
            " 16  number_emergency          101766 non-null  int64 \n",
            " 17  number_inpatient          101766 non-null  int64 \n",
            " 18  diag_1                    101766 non-null  object\n",
            " 19  diag_2                    101766 non-null  object\n",
            " 20  diag_3                    101766 non-null  object\n",
            " 21  number_diagnoses          101766 non-null  int64 \n",
            " 22  max_glu_serum             5346 non-null    object\n",
            " 23  A1Cresult                 17018 non-null   object\n",
            " 24  metformin                 101766 non-null  object\n",
            " 25  repaglinide               101766 non-null  object\n",
            " 26  nateglinide               101766 non-null  object\n",
            " 27  chlorpropamide            101766 non-null  object\n",
            " 28  glimepiride               101766 non-null  object\n",
            " 29  acetohexamide             101766 non-null  object\n",
            " 30  glipizide                 101766 non-null  object\n",
            " 31  glyburide                 101766 non-null  object\n",
            " 32  tolbutamide               101766 non-null  object\n",
            " 33  pioglitazone              101766 non-null  object\n",
            " 34  rosiglitazone             101766 non-null  object\n",
            " 35  acarbose                  101766 non-null  object\n",
            " 36  miglitol                  101766 non-null  object\n",
            " 37  troglitazone              101766 non-null  object\n",
            " 38  tolazamide                101766 non-null  object\n",
            " 39  examide                   101766 non-null  object\n",
            " 40  citoglipton               101766 non-null  object\n",
            " 41  insulin                   101766 non-null  object\n",
            " 42  glyburide-metformin       101766 non-null  object\n",
            " 43  glipizide-metformin       101766 non-null  object\n",
            " 44  glimepiride-pioglitazone  101766 non-null  object\n",
            " 45  metformin-rosiglitazone   101766 non-null  object\n",
            " 46  metformin-pioglitazone    101766 non-null  object\n",
            " 47  change                    101766 non-null  object\n",
            " 48  diabetesMed               101766 non-null  object\n",
            " 49  readmitted                101766 non-null  object\n",
            "dtypes: int64(13), object(37)\n",
            "memory usage: 38.8+ MB\n"
          ]
        }
      ]
    },
    {
      "cell_type": "markdown",
      "source": [
        "# Clean the Datasets"
      ],
      "metadata": {
        "id": "hIm5Lssc1ooR"
      }
    },
    {
      "cell_type": "markdown",
      "source": [
        "## Columns to Keep"
      ],
      "metadata": {
        "id": "7M_QyK5l1_ug"
      }
    },
    {
      "cell_type": "code",
      "source": [
        "diabetic_UCI = diabetic_UCI[[\n",
        "    # Identifiers: One patient number can have multiple encounter ids\n",
        "   \"encounter_id\", \"patient_nbr\",\n",
        "\n",
        "    # Demographics\n",
        "    \"race\", \"gender\", \"age\", \"weight\",\n",
        "\n",
        "    # Admission/Discharge info\n",
        "    \"admission_type_id\", \"discharge_disposition_id\", \"admission_source_id\",\n",
        "\n",
        "    # Hospital Stay/ Utilization\n",
        "    \"time_in_hospital\", \"num_medications\",\n",
        "    \"number_outpatient\", \"number_emergency\", \"number_inpatient\",\n",
        "\n",
        "    # Diagnosis Codes\n",
        "    \"diag_1\", \"diag_2\", \"diag_3\", \"number_diagnoses\",\n",
        "\n",
        "    # Medication Information\n",
        "    \"metformin\", \"repaglinide\", \"nateglinide\", \"chlorpropamide\", \"glimepiride\",\n",
        "    \"acetohexamide\", \"glipizide\", \"glyburide\", \"tolbutamide\", \"pioglitazone\",\n",
        "    \"rosiglitazone\", \"acarbose\", \"miglitol\", \"troglitazone\", \"tolazamide\", \"examide\",\n",
        "    \"citoglipton\", \"insulin\", \"glyburide-metformin\", \"glipizide-metformin\", \"glimepiride-pioglitazone\",\n",
        "    \"metformin-rosiglitazone\", \"metformin-pioglitazone\", \"change\", \"diabetesMed\",\n",
        "\n",
        "    # Outcome\n",
        "    \"readmitted\"\n",
        "]]"
      ],
      "metadata": {
        "id": "8medgWa52Jec"
      },
      "execution_count": null,
      "outputs": []
    },
    {
      "cell_type": "code",
      "source": [
        "diabetes_kaggle = diabetes_kaggle[[\n",
        "    # Demographics\n",
        "    \"age\", \"gender\", \"race:AfricanAmerican\", \"race:Asian\", \"race:Caucasian\", \"race:Other\",\n",
        "\n",
        "    # Factors\n",
        "    \"hypertension\", \"heart_disease\", \"smoking_history\", \"bmi\", \"hbA1c_level\", \"blood_glucose_level\",\n",
        "\n",
        "    # Outcome\n",
        "    \"diabetes\"\n",
        "]]"
      ],
      "metadata": {
        "id": "7N8EYBOa5OHm"
      },
      "execution_count": null,
      "outputs": []
    },
    {
      "cell_type": "markdown",
      "source": [
        "## Join diabetic_UCI and ids_mapping_UCI"
      ],
      "metadata": {
        "id": "13WckFTpyrIk"
      }
    },
    {
      "cell_type": "code",
      "source": [
        "# Make sure the join key is numeric in both\n",
        "diabetic_UCI[\"admission_type_id\"] = pd.to_numeric(diabetic_UCI[\"admission_type_id\"], errors=\"coerce\")\n",
        "ids_mapping_UCI[\"admission_type_id\"] = pd.to_numeric(ids_mapping_UCI[\"admission_type_id\"], errors=\"coerce\")"
      ],
      "metadata": {
        "id": "Wcy6Iao9yyjh"
      },
      "execution_count": null,
      "outputs": []
    },
    {
      "cell_type": "code",
      "source": [
        "# Left-merge to attach the label then tidy\n",
        "diabetic_UCI_merged = (\n",
        "    diabetic_UCI.merge(ids_mapping_UCI, on=\"admission_type_id\", how=\"left\")\n",
        "                .rename(columns={\"description\": \"admission_type\"})\n",
        ")\n",
        "diabetic_UCI_merged[\"admission_type\"] = diabetic_UCI_merged[\"admission_type\"].astype(\"category\")\n",
        "\n",
        "# Delete duplicated data from join\n",
        "ids_mapping_dedup = ids_mapping_UCI.drop_duplicates(\"admission_type_id\")\n",
        "diabetic_UCI_merged = diabetic_UCI.merge(\n",
        "    ids_mapping_dedup, on=\"admission_type_id\", how=\"left\", validate=\"many_to_one\"\n",
        ").rename(columns={\"description\":\"admission_type\"})"
      ],
      "metadata": {
        "id": "ntkM2ju9y66t"
      },
      "execution_count": null,
      "outputs": []
    },
    {
      "cell_type": "code",
      "source": [
        "diabetic_UCI_merged.info()"
      ],
      "metadata": {
        "colab": {
          "base_uri": "https://localhost:8080/"
        },
        "id": "B0fU_JiFyRgV",
        "outputId": "93a1f544-d98f-4ef4-c5cb-5eb706906790"
      },
      "execution_count": null,
      "outputs": [
        {
          "output_type": "stream",
          "name": "stdout",
          "text": [
            "<class 'pandas.core.frame.DataFrame'>\n",
            "RangeIndex: 101766 entries, 0 to 101765\n",
            "Data columns (total 45 columns):\n",
            " #   Column                    Non-Null Count   Dtype \n",
            "---  ------                    --------------   ----- \n",
            " 0   encounter_id              101766 non-null  int64 \n",
            " 1   patient_nbr               101766 non-null  int64 \n",
            " 2   race                      101766 non-null  object\n",
            " 3   gender                    101766 non-null  object\n",
            " 4   age                       101766 non-null  object\n",
            " 5   weight                    101766 non-null  object\n",
            " 6   admission_type_id         101766 non-null  int64 \n",
            " 7   discharge_disposition_id  101766 non-null  int64 \n",
            " 8   admission_source_id       101766 non-null  int64 \n",
            " 9   time_in_hospital          101766 non-null  int64 \n",
            " 10  num_medications           101766 non-null  int64 \n",
            " 11  number_outpatient         101766 non-null  int64 \n",
            " 12  number_emergency          101766 non-null  int64 \n",
            " 13  number_inpatient          101766 non-null  int64 \n",
            " 14  diag_1                    101766 non-null  object\n",
            " 15  diag_2                    101766 non-null  object\n",
            " 16  diag_3                    101766 non-null  object\n",
            " 17  number_diagnoses          101766 non-null  int64 \n",
            " 18  metformin                 101766 non-null  object\n",
            " 19  repaglinide               101766 non-null  object\n",
            " 20  nateglinide               101766 non-null  object\n",
            " 21  chlorpropamide            101766 non-null  object\n",
            " 22  glimepiride               101766 non-null  object\n",
            " 23  acetohexamide             101766 non-null  object\n",
            " 24  glipizide                 101766 non-null  object\n",
            " 25  glyburide                 101766 non-null  object\n",
            " 26  tolbutamide               101766 non-null  object\n",
            " 27  pioglitazone              101766 non-null  object\n",
            " 28  rosiglitazone             101766 non-null  object\n",
            " 29  acarbose                  101766 non-null  object\n",
            " 30  miglitol                  101766 non-null  object\n",
            " 31  troglitazone              101766 non-null  object\n",
            " 32  tolazamide                101766 non-null  object\n",
            " 33  examide                   101766 non-null  object\n",
            " 34  citoglipton               101766 non-null  object\n",
            " 35  insulin                   101766 non-null  object\n",
            " 36  glyburide-metformin       101766 non-null  object\n",
            " 37  glipizide-metformin       101766 non-null  object\n",
            " 38  glimepiride-pioglitazone  101766 non-null  object\n",
            " 39  metformin-rosiglitazone   101766 non-null  object\n",
            " 40  metformin-pioglitazone    101766 non-null  object\n",
            " 41  change                    101766 non-null  object\n",
            " 42  diabetesMed               101766 non-null  object\n",
            " 43  readmitted                101766 non-null  object\n",
            " 44  admission_type            96475 non-null   object\n",
            "dtypes: int64(11), object(34)\n",
            "memory usage: 34.9+ MB\n"
          ]
        }
      ]
    },
    {
      "cell_type": "code",
      "source": [
        "diabetes_kaggle.info()"
      ],
      "metadata": {
        "colab": {
          "base_uri": "https://localhost:8080/"
        },
        "id": "wE5cNVyDy67z",
        "outputId": "a0db3987-1597-4cd8-b73c-811214fb7cda"
      },
      "execution_count": null,
      "outputs": [
        {
          "output_type": "stream",
          "name": "stdout",
          "text": [
            "<class 'pandas.core.frame.DataFrame'>\n",
            "RangeIndex: 100000 entries, 0 to 99999\n",
            "Data columns (total 13 columns):\n",
            " #   Column                Non-Null Count   Dtype  \n",
            "---  ------                --------------   -----  \n",
            " 0   age                   100000 non-null  float64\n",
            " 1   gender                100000 non-null  object \n",
            " 2   race:AfricanAmerican  100000 non-null  int64  \n",
            " 3   race:Asian            100000 non-null  int64  \n",
            " 4   race:Caucasian        100000 non-null  int64  \n",
            " 5   race:Other            100000 non-null  int64  \n",
            " 6   hypertension          100000 non-null  int64  \n",
            " 7   heart_disease         100000 non-null  int64  \n",
            " 8   smoking_history       100000 non-null  object \n",
            " 9   bmi                   100000 non-null  float64\n",
            " 10  hbA1c_level           100000 non-null  float64\n",
            " 11  blood_glucose_level   100000 non-null  int64  \n",
            " 12  diabetes              100000 non-null  int64  \n",
            "dtypes: float64(3), int64(8), object(2)\n",
            "memory usage: 9.9+ MB\n"
          ]
        }
      ]
    },
    {
      "cell_type": "markdown",
      "source": [
        "# Exporting CSVs"
      ],
      "metadata": {
        "id": "tDFLyBne4TfH"
      }
    },
    {
      "cell_type": "code",
      "source": [
        "# Turn the cleaned datasets to CSVs\n",
        "\n",
        "diabetic_UCI_merged.to_csv(\n",
        "    'diabetic_UCI_merged',\n",
        "    encoding='utf-8-sig',\n",
        "    index=False\n",
        ")\n",
        "\n",
        "diabetes_kaggle.to_csv(\n",
        "    'diabetes_kaggle',\n",
        "    encoding='utf-8-sig',\n",
        "    index=False\n",
        ")"
      ],
      "metadata": {
        "id": "c13spzxF4_rx"
      },
      "execution_count": null,
      "outputs": []
    },
    {
      "cell_type": "code",
      "source": [
        "# Download datasets\n",
        "from google.colab import files\n",
        "\n",
        "files.download('diabetic_UCI_merged')\n",
        "files.download('diabetes_kaggle')"
      ],
      "metadata": {
        "colab": {
          "base_uri": "https://localhost:8080/",
          "height": 17
        },
        "id": "EwxSWF_q4aa5",
        "outputId": "b2c62c27-1e20-49e9-e8b3-56b5105c8d64"
      },
      "execution_count": null,
      "outputs": [
        {
          "output_type": "display_data",
          "data": {
            "text/plain": [
              "<IPython.core.display.Javascript object>"
            ],
            "application/javascript": [
              "\n",
              "    async function download(id, filename, size) {\n",
              "      if (!google.colab.kernel.accessAllowed) {\n",
              "        return;\n",
              "      }\n",
              "      const div = document.createElement('div');\n",
              "      const label = document.createElement('label');\n",
              "      label.textContent = `Downloading \"${filename}\": `;\n",
              "      div.appendChild(label);\n",
              "      const progress = document.createElement('progress');\n",
              "      progress.max = size;\n",
              "      div.appendChild(progress);\n",
              "      document.body.appendChild(div);\n",
              "\n",
              "      const buffers = [];\n",
              "      let downloaded = 0;\n",
              "\n",
              "      const channel = await google.colab.kernel.comms.open(id);\n",
              "      // Send a message to notify the kernel that we're ready.\n",
              "      channel.send({})\n",
              "\n",
              "      for await (const message of channel.messages) {\n",
              "        // Send a message to notify the kernel that we're ready.\n",
              "        channel.send({})\n",
              "        if (message.buffers) {\n",
              "          for (const buffer of message.buffers) {\n",
              "            buffers.push(buffer);\n",
              "            downloaded += buffer.byteLength;\n",
              "            progress.value = downloaded;\n",
              "          }\n",
              "        }\n",
              "      }\n",
              "      const blob = new Blob(buffers, {type: 'application/binary'});\n",
              "      const a = document.createElement('a');\n",
              "      a.href = window.URL.createObjectURL(blob);\n",
              "      a.download = filename;\n",
              "      div.appendChild(a);\n",
              "      a.click();\n",
              "      div.remove();\n",
              "    }\n",
              "  "
            ]
          },
          "metadata": {}
        },
        {
          "output_type": "display_data",
          "data": {
            "text/plain": [
              "<IPython.core.display.Javascript object>"
            ],
            "application/javascript": [
              "download(\"download_2bacc4da-25e8-478b-ab52-01647749c828\", \"diabetic_UCI_merged\", 17234552)"
            ]
          },
          "metadata": {}
        },
        {
          "output_type": "display_data",
          "data": {
            "text/plain": [
              "<IPython.core.display.Javascript object>"
            ],
            "application/javascript": [
              "\n",
              "    async function download(id, filename, size) {\n",
              "      if (!google.colab.kernel.accessAllowed) {\n",
              "        return;\n",
              "      }\n",
              "      const div = document.createElement('div');\n",
              "      const label = document.createElement('label');\n",
              "      label.textContent = `Downloading \"${filename}\": `;\n",
              "      div.appendChild(label);\n",
              "      const progress = document.createElement('progress');\n",
              "      progress.max = size;\n",
              "      div.appendChild(progress);\n",
              "      document.body.appendChild(div);\n",
              "\n",
              "      const buffers = [];\n",
              "      let downloaded = 0;\n",
              "\n",
              "      const channel = await google.colab.kernel.comms.open(id);\n",
              "      // Send a message to notify the kernel that we're ready.\n",
              "      channel.send({})\n",
              "\n",
              "      for await (const message of channel.messages) {\n",
              "        // Send a message to notify the kernel that we're ready.\n",
              "        channel.send({})\n",
              "        if (message.buffers) {\n",
              "          for (const buffer of message.buffers) {\n",
              "            buffers.push(buffer);\n",
              "            downloaded += buffer.byteLength;\n",
              "            progress.value = downloaded;\n",
              "          }\n",
              "        }\n",
              "      }\n",
              "      const blob = new Blob(buffers, {type: 'application/binary'});\n",
              "      const a = document.createElement('a');\n",
              "      a.href = window.URL.createObjectURL(blob);\n",
              "      a.download = filename;\n",
              "      div.appendChild(a);\n",
              "      a.click();\n",
              "      div.remove();\n",
              "    }\n",
              "  "
            ]
          },
          "metadata": {}
        },
        {
          "output_type": "display_data",
          "data": {
            "text/plain": [
              "<IPython.core.display.Javascript object>"
            ],
            "application/javascript": [
              "download(\"download_33957636-b25d-4ff6-ab13-b9a8cf80915e\", \"diabetes_kaggle\", 4610417)"
            ]
          },
          "metadata": {}
        }
      ]
    },
    {
      "cell_type": "markdown",
      "source": [
        "##"
      ],
      "metadata": {
        "id": "kcPi8Xia3jyP"
      }
    }
  ]
}